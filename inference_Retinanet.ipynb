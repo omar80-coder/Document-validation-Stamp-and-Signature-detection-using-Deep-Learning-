{
  "nbformat": 4,
  "nbformat_minor": 0,
  "metadata": {
    "colab": {
      "provenance": [],
      "include_colab_link": true
    },
    "kernelspec": {
      "name": "python3",
      "display_name": "Python 3"
    },
    "language_info": {
      "name": "python"
    }
  },
  "cells": [
    {
      "cell_type": "markdown",
      "metadata": {
        "id": "view-in-github",
        "colab_type": "text"
      },
      "source": [
        "<a href=\"https://colab.research.google.com/github/omar80-coder/Document-validation-Stamp-and-Signature-detection-using-Deep-Learning-/blob/main/inference_Retinanet.ipynb\" target=\"_parent\"><img src=\"https://colab.research.google.com/assets/colab-badge.svg\" alt=\"Open In Colab\"/></a>"
      ]
    },
    {
      "cell_type": "code",
      "execution_count": null,
      "metadata": {
        "colab": {
          "base_uri": "https://localhost:8080/"
        },
        "id": "0AwrnP62FasE",
        "outputId": "a9bb7b7a-a12d-4457-9bd6-706b0e34c64c"
      },
      "outputs": [
        {
          "output_type": "stream",
          "name": "stdout",
          "text": [
            "Drive already mounted at /content/drive; to attempt to forcibly remount, call drive.mount(\"/content/drive\", force_remount=True).\n"
          ]
        }
      ],
      "source": [
        "from google.colab import drive\n",
        "drive.mount('/content/drive')"
      ]
    },
    {
      "cell_type": "code",
      "source": [
        "import torchvision\n",
        "import torch\n",
        "from functools import partial\n",
        "from torchvision.models.detection import RetinaNet_ResNet50_FPN_V2_Weights\n",
        "from torchvision.models.detection.retinanet import RetinaNetClassificationHead\n",
        "import cv2\n",
        "import numpy as np\n",
        "import matplotlib.pyplot as plt\n",
        "import time\n",
        "\n",
        "# Set device\n",
        "DEVICE = torch.device('cuda') if torch.cuda.is_available() else torch.device('cpu')\n",
        "print(f\"Using device: {DEVICE}\")\n"
      ],
      "metadata": {
        "colab": {
          "base_uri": "https://localhost:8080/"
        },
        "id": "sjR9HA4YFBZs",
        "outputId": "c36f084d-ddd5-4083-b0a0-f3fa9174a628"
      },
      "execution_count": null,
      "outputs": [
        {
          "output_type": "stream",
          "name": "stdout",
          "text": [
            "Using device: cpu\n"
          ]
        }
      ]
    },
    {
      "cell_type": "code",
      "source": [
        "!pip install pdf2image\n"
      ],
      "metadata": {
        "id": "aiY0Wbv7XpZT",
        "colab": {
          "base_uri": "https://localhost:8080/"
        },
        "outputId": "f626de6e-2f04-404d-be66-a3f02f4d7486"
      },
      "execution_count": null,
      "outputs": [
        {
          "output_type": "stream",
          "name": "stdout",
          "text": [
            "Collecting pdf2image\n",
            "  Downloading pdf2image-1.17.0-py3-none-any.whl (11 kB)\n",
            "Requirement already satisfied: pillow in /usr/local/lib/python3.10/dist-packages (from pdf2image) (9.4.0)\n",
            "Installing collected packages: pdf2image\n",
            "Successfully installed pdf2image-1.17.0\n"
          ]
        }
      ]
    },
    {
      "cell_type": "code",
      "source": [
        "import torchvision\n",
        "import torch\n",
        "from functools import partial\n",
        "from torchvision.models.detection import RetinaNet_ResNet50_FPN_V2_Weights\n",
        "from torchvision.models.detection.retinanet import RetinaNetClassificationHead\n",
        "import cv2\n",
        "import numpy as np\n",
        "import matplotlib.pyplot as plt\n",
        "import time\n",
        "from pdf2image import convert_from_path\n",
        "\n",
        "# Set device\n",
        "DEVICE = torch.device('cuda') if torch.cuda.is_available() else torch.device('cpu')\n",
        "print(f\"Using device: {DEVICE}\")\n"
      ],
      "metadata": {
        "colab": {
          "base_uri": "https://localhost:8080/"
        },
        "id": "s5EatKlgiD8p",
        "outputId": "52abcdcd-9d9d-44ab-aa75-0d9d5766ee61"
      },
      "execution_count": null,
      "outputs": [
        {
          "output_type": "stream",
          "name": "stdout",
          "text": [
            "Using device: cpu\n"
          ]
        }
      ]
    },
    {
      "cell_type": "code",
      "source": [
        "\n",
        "\n",
        "# Set device\n",
        "DEVICE = torch.device('cuda') if torch.cuda.is_available() else torch.device('cpu')\n",
        "print(f\"Using device: {DEVICE}\")\n",
        "\n",
        "# Define paths and parameters\n",
        "pdf_paths = [\n",
        "    '/content/drive/MyDrive/invoices_old_version/Labeled P1 - MACHINE WRITTEN/20231217_190133_merged-1.pdf',\n",
        "    '/content/drive/MyDrive/invoices_old_version/P2 HANDWRITTEN/20221109_144858.pdf'\n",
        "]\n",
        "threshold = 0.3\n",
        "COLORS = [(255, 0, 0), (0, 255, 0), (0, 0, 255)]\n",
        "CLASSES = ['__background__', 'stamp', 'signature']\n",
        "NUM_CLASSES = len(CLASSES)\n",
        "\n",
        "# Function to create the model\n",
        "def create_model(num_classes):\n",
        "    model = torchvision.models.detection.retinanet_resnet50_fpn_v2(weights=RetinaNet_ResNet50_FPN_V2_Weights.COCO_V1)\n",
        "    num_anchors = model.head.classification_head.num_anchors\n",
        "\n",
        "    model.head.classification_head = RetinaNetClassificationHead(\n",
        "        in_channels=256,\n",
        "        num_anchors=num_anchors,\n",
        "        num_classes=num_classes,\n",
        "        norm_layer=partial(torch.nn.GroupNorm, 32)\n",
        "    )\n",
        "    return model\n",
        "\n",
        "# Load the model\n",
        "model = create_model(num_classes=NUM_CLASSES)\n",
        "checkpoint = torch.load('/content/drive/MyDrive/invoices_old_version/Copy of best_model.pth', map_location=DEVICE)\n",
        "model.load_state_dict(checkpoint['model_state_dict'])\n",
        "model = model.to(DEVICE).eval()\n",
        "\n",
        "def process_pdf(pdf_path):\n",
        "    # Convert PDF to images\n",
        "    images = convert_from_path(pdf_path)\n",
        "\n",
        "    # Check if images were read correctly\n",
        "    if not images:\n",
        "        print(f\"Error: Unable to convert PDF to images at {pdf_path}\")\n",
        "        return\n",
        "\n",
        "    # Process the first page of the PDF\n",
        "    image = np.array(images[0])\n",
        "    orig_image = image.copy()\n",
        "    image = cv2.cvtColor(image, cv2.COLOR_BGR2RGB).astype(np.float32) / 255.0\n",
        "    image_input = np.transpose(image, (2, 0, 1)).astype(np.float32)\n",
        "    image_input = torch.tensor(image_input, dtype=torch.float).to(DEVICE)\n",
        "    image_input = torch.unsqueeze(image_input, 0)  # Add batch dimension\n",
        "\n",
        "    # Perform inference\n",
        "    start_time = time.time()\n",
        "    with torch.no_grad():\n",
        "        outputs = model(image_input)\n",
        "    end_time = time.time()\n",
        "    inference_time = end_time - start_time\n",
        "    print(f\"Inference time for {pdf_path}: {inference_time:.3f} seconds\")\n",
        "\n",
        "    # Post-process the outputs\n",
        "    boxes = outputs[0]['boxes'].data.cpu().numpy()\n",
        "    scores = outputs[0]['scores'].data.cpu().numpy()\n",
        "    labels = outputs[0]['labels'].data.cpu().numpy()\n",
        "\n",
        "    # Filter boxes by threshold\n",
        "    filtered_indices = scores >= threshold\n",
        "    boxes = boxes[filtered_indices].astype(np.int32)\n",
        "    scores = scores[filtered_indices]\n",
        "    pred_classes = [CLASSES[i] for i in labels[filtered_indices]]\n",
        "\n",
        "    # Draw boxes, labels, and scores on the image\n",
        "    def draw_bounding_box_with_text(img, box, class_name, score, color):\n",
        "        xmin, ymin, xmax, ymax = box\n",
        "        cv2.rectangle(img, (xmin, ymin), (xmax, ymax), color, 2)\n",
        "        label_text = f\"{class_name}: {score:.2f}\"\n",
        "        text_width, text_height = cv2.getTextSize(label_text, cv2.FONT_HERSHEY_SIMPLEX, 0.6, 1)[0]\n",
        "        text_offset_x = xmin\n",
        "        text_offset_y = ymin - 10\n",
        "        text_background_color = (0, 0, 0)\n",
        "        cv2.rectangle(img, (text_offset_x, text_offset_y - text_height - 2), (text_offset_x + text_width, text_offset_y), text_background_color, -1)\n",
        "        cv2.putText(img, label_text, (text_offset_x, text_offset_y - 2), cv2.FONT_HERSHEY_SIMPLEX, 0.6, color, 1)\n",
        "\n",
        "    for box, class_name, score in zip(boxes, pred_classes, scores):\n",
        "        color = COLORS[CLASSES.index(class_name) % len(COLORS)]\n",
        "        box = [int(box[0] * orig_image.shape[1] / image.shape[1]),\n",
        "               int(box[1] * orig_image.shape[0] / image.shape[0]),\n",
        "               int(box[2] * orig_image.shape[1] / image.shape[1]),\n",
        "               int(box[3] * orig_image.shape[0] / image.shape[0])]\n",
        "        draw_bounding_box_with_text(orig_image, box, class_name, score, color)\n",
        "\n",
        "    # Display the image\n",
        "    plt.imshow(cv2.cvtColor(orig_image, cv2.COLOR_BGR2RGB))\n",
        "    plt.axis('off')\n",
        "    plt.show()\n",
        "\n",
        "# Process each PDF path\n",
        "for pdf_path in pdf_paths:\n",
        "    process_pdf(pdf_path)\n"
      ],
      "metadata": {
        "colab": {
          "base_uri": "https://localhost:8080/",
          "height": 480
        },
        "id": "tD3lpbnIHtiv",
        "outputId": "2a94572f-f87c-4bb7-bb7c-6df476abf5bd"
      },
      "execution_count": null,
      "outputs": [
        {
          "output_type": "stream",
          "name": "stdout",
          "text": [
            "Using device: cpu\n"
          ]
        },
        {
          "output_type": "error",
          "ename": "PDFInfoNotInstalledError",
          "evalue": "Unable to get page count. Is poppler installed and in PATH?",
          "traceback": [
            "\u001b[0;31m---------------------------------------------------------------------------\u001b[0m",
            "\u001b[0;31mFileNotFoundError\u001b[0m                         Traceback (most recent call last)",
            "\u001b[0;32m/usr/local/lib/python3.10/dist-packages/pdf2image/pdf2image.py\u001b[0m in \u001b[0;36mpdfinfo_from_path\u001b[0;34m(pdf_path, userpw, ownerpw, poppler_path, rawdates, timeout, first_page, last_page)\u001b[0m\n\u001b[1;32m    580\u001b[0m             \u001b[0menv\u001b[0m\u001b[0;34m[\u001b[0m\u001b[0;34m\"LD_LIBRARY_PATH\"\u001b[0m\u001b[0;34m]\u001b[0m \u001b[0;34m=\u001b[0m \u001b[0mpoppler_path\u001b[0m \u001b[0;34m+\u001b[0m \u001b[0;34m\":\"\u001b[0m \u001b[0;34m+\u001b[0m \u001b[0menv\u001b[0m\u001b[0;34m.\u001b[0m\u001b[0mget\u001b[0m\u001b[0;34m(\u001b[0m\u001b[0;34m\"LD_LIBRARY_PATH\"\u001b[0m\u001b[0;34m,\u001b[0m \u001b[0;34m\"\"\u001b[0m\u001b[0;34m)\u001b[0m\u001b[0;34m\u001b[0m\u001b[0;34m\u001b[0m\u001b[0m\n\u001b[0;32m--> 581\u001b[0;31m         \u001b[0mproc\u001b[0m \u001b[0;34m=\u001b[0m \u001b[0mPopen\u001b[0m\u001b[0;34m(\u001b[0m\u001b[0mcommand\u001b[0m\u001b[0;34m,\u001b[0m \u001b[0menv\u001b[0m\u001b[0;34m=\u001b[0m\u001b[0menv\u001b[0m\u001b[0;34m,\u001b[0m \u001b[0mstdout\u001b[0m\u001b[0;34m=\u001b[0m\u001b[0mPIPE\u001b[0m\u001b[0;34m,\u001b[0m \u001b[0mstderr\u001b[0m\u001b[0;34m=\u001b[0m\u001b[0mPIPE\u001b[0m\u001b[0;34m)\u001b[0m\u001b[0;34m\u001b[0m\u001b[0;34m\u001b[0m\u001b[0m\n\u001b[0m\u001b[1;32m    582\u001b[0m \u001b[0;34m\u001b[0m\u001b[0m\n",
            "\u001b[0;32m/usr/lib/python3.10/subprocess.py\u001b[0m in \u001b[0;36m__init__\u001b[0;34m(self, args, bufsize, executable, stdin, stdout, stderr, preexec_fn, close_fds, shell, cwd, env, universal_newlines, startupinfo, creationflags, restore_signals, start_new_session, pass_fds, user, group, extra_groups, encoding, errors, text, umask, pipesize)\u001b[0m\n\u001b[1;32m    970\u001b[0m \u001b[0;34m\u001b[0m\u001b[0m\n\u001b[0;32m--> 971\u001b[0;31m             self._execute_child(args, executable, preexec_fn, close_fds,\n\u001b[0m\u001b[1;32m    972\u001b[0m                                 \u001b[0mpass_fds\u001b[0m\u001b[0;34m,\u001b[0m \u001b[0mcwd\u001b[0m\u001b[0;34m,\u001b[0m \u001b[0menv\u001b[0m\u001b[0;34m,\u001b[0m\u001b[0;34m\u001b[0m\u001b[0;34m\u001b[0m\u001b[0m\n",
            "\u001b[0;32m/usr/lib/python3.10/subprocess.py\u001b[0m in \u001b[0;36m_execute_child\u001b[0;34m(self, args, executable, preexec_fn, close_fds, pass_fds, cwd, env, startupinfo, creationflags, shell, p2cread, p2cwrite, c2pread, c2pwrite, errread, errwrite, restore_signals, gid, gids, uid, umask, start_new_session)\u001b[0m\n\u001b[1;32m   1862\u001b[0m                         \u001b[0merr_msg\u001b[0m \u001b[0;34m=\u001b[0m \u001b[0mos\u001b[0m\u001b[0;34m.\u001b[0m\u001b[0mstrerror\u001b[0m\u001b[0;34m(\u001b[0m\u001b[0merrno_num\u001b[0m\u001b[0;34m)\u001b[0m\u001b[0;34m\u001b[0m\u001b[0;34m\u001b[0m\u001b[0m\n\u001b[0;32m-> 1863\u001b[0;31m                     \u001b[0;32mraise\u001b[0m \u001b[0mchild_exception_type\u001b[0m\u001b[0;34m(\u001b[0m\u001b[0merrno_num\u001b[0m\u001b[0;34m,\u001b[0m \u001b[0merr_msg\u001b[0m\u001b[0;34m,\u001b[0m \u001b[0merr_filename\u001b[0m\u001b[0;34m)\u001b[0m\u001b[0;34m\u001b[0m\u001b[0;34m\u001b[0m\u001b[0m\n\u001b[0m\u001b[1;32m   1864\u001b[0m                 \u001b[0;32mraise\u001b[0m \u001b[0mchild_exception_type\u001b[0m\u001b[0;34m(\u001b[0m\u001b[0merr_msg\u001b[0m\u001b[0;34m)\u001b[0m\u001b[0;34m\u001b[0m\u001b[0;34m\u001b[0m\u001b[0m\n",
            "\u001b[0;31mFileNotFoundError\u001b[0m: [Errno 2] No such file or directory: 'pdfinfo'",
            "\nDuring handling of the above exception, another exception occurred:\n",
            "\u001b[0;31mPDFInfoNotInstalledError\u001b[0m                  Traceback (most recent call last)",
            "\u001b[0;32m<ipython-input-20-9196663828ea>\u001b[0m in \u001b[0;36m<cell line: 96>\u001b[0;34m()\u001b[0m\n\u001b[1;32m     95\u001b[0m \u001b[0;31m# Process each PDF path\u001b[0m\u001b[0;34m\u001b[0m\u001b[0;34m\u001b[0m\u001b[0m\n\u001b[1;32m     96\u001b[0m \u001b[0;32mfor\u001b[0m \u001b[0mpdf_path\u001b[0m \u001b[0;32min\u001b[0m \u001b[0mpdf_paths\u001b[0m\u001b[0;34m:\u001b[0m\u001b[0;34m\u001b[0m\u001b[0;34m\u001b[0m\u001b[0m\n\u001b[0;32m---> 97\u001b[0;31m     \u001b[0mprocess_pdf\u001b[0m\u001b[0;34m(\u001b[0m\u001b[0mpdf_path\u001b[0m\u001b[0;34m)\u001b[0m\u001b[0;34m\u001b[0m\u001b[0;34m\u001b[0m\u001b[0m\n\u001b[0m",
            "\u001b[0;32m<ipython-input-20-9196663828ea>\u001b[0m in \u001b[0;36mprocess_pdf\u001b[0;34m(pdf_path)\u001b[0m\n\u001b[1;32m     34\u001b[0m \u001b[0;32mdef\u001b[0m \u001b[0mprocess_pdf\u001b[0m\u001b[0;34m(\u001b[0m\u001b[0mpdf_path\u001b[0m\u001b[0;34m)\u001b[0m\u001b[0;34m:\u001b[0m\u001b[0;34m\u001b[0m\u001b[0;34m\u001b[0m\u001b[0m\n\u001b[1;32m     35\u001b[0m     \u001b[0;31m# Convert PDF to images\u001b[0m\u001b[0;34m\u001b[0m\u001b[0;34m\u001b[0m\u001b[0m\n\u001b[0;32m---> 36\u001b[0;31m     \u001b[0mimages\u001b[0m \u001b[0;34m=\u001b[0m \u001b[0mconvert_from_path\u001b[0m\u001b[0;34m(\u001b[0m\u001b[0mpdf_path\u001b[0m\u001b[0;34m)\u001b[0m\u001b[0;34m\u001b[0m\u001b[0;34m\u001b[0m\u001b[0m\n\u001b[0m\u001b[1;32m     37\u001b[0m \u001b[0;34m\u001b[0m\u001b[0m\n\u001b[1;32m     38\u001b[0m     \u001b[0;31m# Check if images were read correctly\u001b[0m\u001b[0;34m\u001b[0m\u001b[0;34m\u001b[0m\u001b[0m\n",
            "\u001b[0;32m/usr/local/lib/python3.10/dist-packages/pdf2image/pdf2image.py\u001b[0m in \u001b[0;36mconvert_from_path\u001b[0;34m(pdf_path, dpi, output_folder, first_page, last_page, fmt, jpegopt, thread_count, userpw, ownerpw, use_cropbox, strict, transparent, single_file, output_file, poppler_path, grayscale, size, paths_only, use_pdftocairo, timeout, hide_annotations)\u001b[0m\n\u001b[1;32m    125\u001b[0m         \u001b[0mpoppler_path\u001b[0m \u001b[0;34m=\u001b[0m \u001b[0mpoppler_path\u001b[0m\u001b[0;34m.\u001b[0m\u001b[0mas_posix\u001b[0m\u001b[0;34m(\u001b[0m\u001b[0;34m)\u001b[0m\u001b[0;34m\u001b[0m\u001b[0;34m\u001b[0m\u001b[0m\n\u001b[1;32m    126\u001b[0m \u001b[0;34m\u001b[0m\u001b[0m\n\u001b[0;32m--> 127\u001b[0;31m     page_count = pdfinfo_from_path(\n\u001b[0m\u001b[1;32m    128\u001b[0m         \u001b[0mpdf_path\u001b[0m\u001b[0;34m,\u001b[0m \u001b[0muserpw\u001b[0m\u001b[0;34m,\u001b[0m \u001b[0mownerpw\u001b[0m\u001b[0;34m,\u001b[0m \u001b[0mpoppler_path\u001b[0m\u001b[0;34m=\u001b[0m\u001b[0mpoppler_path\u001b[0m\u001b[0;34m\u001b[0m\u001b[0;34m\u001b[0m\u001b[0m\n\u001b[1;32m    129\u001b[0m     )[\"Pages\"]\n",
            "\u001b[0;32m/usr/local/lib/python3.10/dist-packages/pdf2image/pdf2image.py\u001b[0m in \u001b[0;36mpdfinfo_from_path\u001b[0;34m(pdf_path, userpw, ownerpw, poppler_path, rawdates, timeout, first_page, last_page)\u001b[0m\n\u001b[1;32m    605\u001b[0m \u001b[0;34m\u001b[0m\u001b[0m\n\u001b[1;32m    606\u001b[0m     \u001b[0;32mexcept\u001b[0m \u001b[0mOSError\u001b[0m\u001b[0;34m:\u001b[0m\u001b[0;34m\u001b[0m\u001b[0;34m\u001b[0m\u001b[0m\n\u001b[0;32m--> 607\u001b[0;31m         raise PDFInfoNotInstalledError(\n\u001b[0m\u001b[1;32m    608\u001b[0m             \u001b[0;34m\"Unable to get page count. Is poppler installed and in PATH?\"\u001b[0m\u001b[0;34m\u001b[0m\u001b[0;34m\u001b[0m\u001b[0m\n\u001b[1;32m    609\u001b[0m         )\n",
            "\u001b[0;31mPDFInfoNotInstalledError\u001b[0m: Unable to get page count. Is poppler installed and in PATH?"
          ]
        }
      ]
    },
    {
      "cell_type": "code",
      "source": [],
      "metadata": {
        "id": "a-1LZpHgWXWc"
      },
      "execution_count": null,
      "outputs": []
    }
  ]
}